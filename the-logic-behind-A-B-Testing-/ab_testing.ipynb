{
 "cells": [
  {
   "cell_type": "code",
   "execution_count": 5,
   "metadata": {},
   "outputs": [],
   "source": [
    "import pandas as pd\n",
    "import seaborn as sns\n",
    "import matplotlib.pyplot as plt\n",
    "import warnings\n",
    "warnings.filterwarnings(\"ignore\")\n",
    "import statistics\n",
    "from scipy import stats\n",
    "from scipy.stats import shapiro\n",
    "import statsmodels.stats.api as sms\n",
    "from helpers.help_ogi_intro import basic_analysis, outlier_thresholds,ogi_AB, is_any_outlier\n"
   ]
  },
  {
   "cell_type": "code",
   "execution_count": 6,
   "metadata": {},
   "outputs": [],
   "source": [
    "pd.set_option('display.max_columns', None)\n",
    "pd.set_option('display.float_format', lambda x: '%.5f' % x)"
   ]
  },
  {
   "cell_type": "code",
   "execution_count": 7,
   "metadata": {},
   "outputs": [],
   "source": [
    "control_data = pd.read_excel(\"ab_testing_data.xlsx\", sheet_name=\"Control Group\")\n",
    "test_data = pd.read_excel(\"ab_testing_data.xlsx\", sheet_name=\"Test Group\")\n"
   ]
  },
  {
   "cell_type": "code",
   "execution_count": 8,
   "metadata": {},
   "outputs": [
    {
     "name": "stdout",
     "output_type": "stream",
     "text": [
      "Dataset has no outliers.\n",
      "Dataset has no outliers.\n"
     ]
    },
    {
     "data": {
      "text/html": [
       "<div>\n",
       "<style scoped>\n",
       "    .dataframe tbody tr th:only-of-type {\n",
       "        vertical-align: middle;\n",
       "    }\n",
       "\n",
       "    .dataframe tbody tr th {\n",
       "        vertical-align: top;\n",
       "    }\n",
       "\n",
       "    .dataframe thead th {\n",
       "        text-align: right;\n",
       "    }\n",
       "</style>\n",
       "<table border=\"1\" class=\"dataframe\">\n",
       "  <thead>\n",
       "    <tr style=\"text-align: right;\">\n",
       "      <th></th>\n",
       "      <th>Impression</th>\n",
       "      <th>Click</th>\n",
       "      <th>Purchase</th>\n",
       "      <th>Earning</th>\n",
       "      <th>Group</th>\n",
       "    </tr>\n",
       "  </thead>\n",
       "  <tbody>\n",
       "    <tr>\n",
       "      <th>0</th>\n",
       "      <td>120103.50380</td>\n",
       "      <td>3216.54796</td>\n",
       "      <td>702.16035</td>\n",
       "      <td>1939.61124</td>\n",
       "      <td>B</td>\n",
       "    </tr>\n",
       "    <tr>\n",
       "      <th>1</th>\n",
       "      <td>134775.94336</td>\n",
       "      <td>3635.08242</td>\n",
       "      <td>834.05429</td>\n",
       "      <td>2929.40582</td>\n",
       "      <td>B</td>\n",
       "    </tr>\n",
       "    <tr>\n",
       "      <th>2</th>\n",
       "      <td>107806.62079</td>\n",
       "      <td>3057.14356</td>\n",
       "      <td>422.93426</td>\n",
       "      <td>2526.24488</td>\n",
       "      <td>B</td>\n",
       "    </tr>\n",
       "    <tr>\n",
       "      <th>3</th>\n",
       "      <td>116445.27553</td>\n",
       "      <td>4650.47391</td>\n",
       "      <td>429.03353</td>\n",
       "      <td>2281.42857</td>\n",
       "      <td>B</td>\n",
       "    </tr>\n",
       "    <tr>\n",
       "      <th>4</th>\n",
       "      <td>145082.51684</td>\n",
       "      <td>5201.38772</td>\n",
       "      <td>749.86044</td>\n",
       "      <td>2781.69752</td>\n",
       "      <td>B</td>\n",
       "    </tr>\n",
       "  </tbody>\n",
       "</table>\n",
       "</div>"
      ],
      "text/plain": [
       "    Impression      Click  Purchase    Earning Group\n",
       "0 120103.50380 3216.54796 702.16035 1939.61124     B\n",
       "1 134775.94336 3635.08242 834.05429 2929.40582     B\n",
       "2 107806.62079 3057.14356 422.93426 2526.24488     B\n",
       "3 116445.27553 4650.47391 429.03353 2281.42857     B\n",
       "4 145082.51684 5201.38772 749.86044 2781.69752     B"
      ]
     },
     "execution_count": 8,
     "metadata": {},
     "output_type": "execute_result"
    }
   ],
   "source": [
    "control_data[\"Group\"] = \"A\"\n",
    "test_data[\"Group\"] = \"B\"\n",
    "\n",
    "is_any_outlier(control_data, \"Purchase\")\n",
    "is_any_outlier(test_data, \"Purchase\")\n",
    "control_data.head()\n",
    "test_data.head()"
   ]
  },
  {
   "cell_type": "markdown",
   "metadata": {},
   "source": [
    "## 1. Confidence Interval"
   ]
  },
  {
   "cell_type": "code",
   "execution_count": 9,
   "metadata": {},
   "outputs": [
    {
     "data": {
      "text/plain": [
       "(530.5670226990063, 633.645170597929)"
      ]
     },
     "execution_count": 9,
     "metadata": {},
     "output_type": "execute_result"
    }
   ],
   "source": [
    "sms.DescrStatsW(control_data[\"Purchase\"]).tconfint_mean()\n",
    "sms.DescrStatsW(test_data[\"Purchase\"]).tconfint_mean()"
   ]
  },
  {
   "cell_type": "markdown",
   "metadata": {},
   "source": [
    "## 2. AB Testing "
   ]
  },
  {
   "cell_type": "markdown",
   "metadata": {},
   "source": [
    "### 2.1. Assumption Control"
   ]
  },
  {
   "cell_type": "markdown",
   "metadata": {},
   "source": [
    "#### 2.1.1 Normality assumption"
   ]
  },
  {
   "cell_type": "code",
   "execution_count": 10,
   "metadata": {},
   "outputs": [
    {
     "name": "stdout",
     "output_type": "stream",
     "text": [
      "Test Statistics is  0.9773, p-value = 0.5891\n"
     ]
    }
   ],
   "source": [
    "# H0: Normal distribution assumption is provided.\n",
    "# H1: Normal distribution assumption cannot be achieved.\n",
    "AB_test = control_data.append(test_data)\n",
    "test_statistics, pvalue = shapiro(AB_test.loc[AB_test[\"Group\"] == \"A\", \"Purchase\"])\n",
    "print('Test Statistics is  %.4f, p-value = %.4f' % (test_statistics, pvalue))\n",
    "#Test Statistics = 0.9773, p-value = 0.5891"
   ]
  },
  {
   "cell_type": "code",
   "execution_count": 11,
   "metadata": {},
   "outputs": [],
   "source": [
    "# If the p-value < 0.05, H0 is rejected.\n",
    "# If the p-value > 0.05, H0 can not be rejected."
   ]
  },
  {
   "cell_type": "code",
   "execution_count": 12,
   "metadata": {},
   "outputs": [
    {
     "name": "stdout",
     "output_type": "stream",
     "text": [
      "Test Statistics is  0.9589, p-value = 0.1541\n"
     ]
    }
   ],
   "source": [
    "test_statistics, pvalue = shapiro(AB_test.loc[AB_test[\"Group\"] == \"B\", \"Purchase\"])\n",
    "print('Test Statistics is  %.4f, p-value = %.4f' % (test_statistics, pvalue))\n",
    "# Test Statistics = 0.9589, p-value = 0.1541"
   ]
  },
  {
   "cell_type": "code",
   "execution_count": 13,
   "metadata": {},
   "outputs": [],
   "source": [
    "# In our A and B groups, H0 was not rejected because our p-value was not less than 0.05.\n",
    "# Therefore, the assumption of normal distribution is provided."
   ]
  },
  {
   "cell_type": "markdown",
   "metadata": {},
   "source": [
    "#### 2.1.2 Variance Homogeneity"
   ]
  },
  {
   "cell_type": "code",
   "execution_count": 14,
   "metadata": {},
   "outputs": [
    {
     "data": {
      "text/plain": [
       "LeveneResult(statistic=2.6392694728747363, pvalue=0.10828588271874791)"
      ]
     },
     "execution_count": 14,
     "metadata": {},
     "output_type": "execute_result"
    }
   ],
   "source": [
    "# H0: Variances Are Homogeneous\n",
    "# H1: Variances Are Not Homogeneous\n",
    "\n",
    "\n",
    "stats.levene(AB_test.loc[AB_test[\"Group\"] == \"A\", \"Purchase\"],\n",
    "             AB_test.loc[AB_test[\"Group\"] == \"B\", \"Purchase\"])\n",
    "\n",
    "#LeveneResult(statistic=2.6392694728747363, pvalue=0.10828588271874791)\n",
    "# H0 was not rejected because the p-value was not less than 0.05.\n",
    "# Variances are homogeneous."
   ]
  },
  {
   "cell_type": "markdown",
   "metadata": {},
   "source": [
    "## 2. Application of the Hypothesis"
   ]
  },
  {
   "cell_type": "code",
   "execution_count": 15,
   "metadata": {},
   "outputs": [
    {
     "name": "stdout",
     "output_type": "stream",
     "text": [
      "Test Statistics is  -0.9416, p-value is 0.3493\n"
     ]
    }
   ],
   "source": [
    "# Independent two-sample t test if assumptions are provided (parametric test)\n",
    "# H0: M1 = M2 (There is no statistically significant difference between the two group averages.)\n",
    "\n",
    "# H1: M1! = M2 (There is a statistically significant difference between the two group averages)\n",
    "\n",
    "# H0 Rejected if p-value <0.05.\n",
    "# If p-value> 0.05, H0 Cannot be denied.\n",
    "\n",
    "test_statistics, pvalue = stats.ttest_ind(AB_test.loc[AB_test[\"Group\"] == \"A\", \"Purchase\"],\n",
    "                                           AB_test.loc[AB_test[\"Group\"] == \"B\", \"Purchase\"],\n",
    "                                           equal_var=True)\n",
    "print('Test Statistics is  %.4f, p-value is %.4f' % (test_statistics, pvalue))\n",
    "\n"
   ]
  },
  {
   "cell_type": "code",
   "execution_count": 16,
   "metadata": {},
   "outputs": [],
   "source": [
    "# Test Statistics = -0.9416, p-value = 0.3493\n",
    "# H0 was not rejected because the p value was not less than 0.05."
   ]
  },
  {
   "cell_type": "markdown",
   "metadata": {},
   "source": [
    "# BONUS "
   ]
  },
  {
   "cell_type": "code",
   "execution_count": 17,
   "metadata": {},
   "outputs": [],
   "source": [
    "control_data['purchase_per_click'] = control_data[\"Click\"]/control_data[\"Impression\"]\n",
    "test_data['purchase_per_click'] = test_data[\"Click\"]/test_data[\"Impression\"]"
   ]
  },
  {
   "cell_type": "code",
   "execution_count": 18,
   "metadata": {},
   "outputs": [
    {
     "data": {
      "image/png": "[encoded data removed]",
      "text/plain": [
       "<Figure size 432x288 with 1 Axes>"
      ]
     },
     "metadata": {
      "needs_background": "light"
     },
     "output_type": "display_data"
    },
    {
     "name": "stdout",
     "output_type": "stream",
     "text": [
      "P value for A data = 0.000, P value for B data = 0.000 \n",
      "\n",
      "##################################################\n",
      "With that situations we have to check our methods \n",
      "\n",
      "Our p values obtained from the Shapiro Wilk test were less than 5%. This shows that we should reject H0. Accordingly distribution of  purchase_per_click  values in  A and B are not likely to normal distribution. \n",
      "\n",
      "\n",
      "Since our Shapiro Wilk test results we need to apply MannWhitney U Test for  purchase_per_click \n",
      "\n",
      "\n",
      "U value is 292.000, MannWhitney U Test p value is 0.000 \n",
      "\n",
      "\n",
      "Our p value from the Mann Whitney U Test is less than 5%(0.05). This shows that we can reject H0.  Thus, with this result, we can say that there is a significant difference between A and B in purchase_per_click variable. \n",
      "\n",
      "\n",
      "Median of B Earning in  purchase_per_click  is greater than A Earning \n",
      "\n",
      "\n"
     ]
    }
   ],
   "source": [
    "ogi_AB(control_data,test_data, \"purchase_per_click\")"
   ]
  },
  {
   "cell_type": "code",
   "execution_count": null,
   "metadata": {},
   "outputs": [],
   "source": []
  }
 ],
 "metadata": {
  "kernelspec": {
   "display_name": "Python 3",
   "language": "python",
   "name": "python3"
  },
  "language_info": {
   "codemirror_mode": {
    "name": "ipython",
    "version": 3
   },
   "file_extension": ".py",
   "mimetype": "text/x-python",
   "name": "python",
   "nbconvert_exporter": "python",
   "pygments_lexer": "ipython3",
   "version": "3.7.7"
  }
 },
 "nbformat": 4,
 "nbformat_minor": 4
}
