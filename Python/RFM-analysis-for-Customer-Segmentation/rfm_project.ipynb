{
 "cells": [
  {
   "cell_type": "markdown",
   "metadata": {},
   "source": [
    "#  RFM Project  "
   ]
  },
  {
   "cell_type": "markdown",
   "metadata": {},
   "source": [
    "### Import Libraries and Data"
   ]
  },
  {
   "cell_type": "code",
   "execution_count": 1,
   "metadata": {},
   "outputs": [],
   "source": [
    "import pandas as pd\n",
    "import numpy as np\n",
    "import matplotlib.pyplot as plt\n",
    "import warnings\n",
    "import seaborn as sns\n",
    "from operator import attrgetter\n",
    "import matplotlib.colors as mcolors\n",
    "from datetime import timedelta\n",
    "import datetime as dt\n",
    "\n",
    "df_ = pd.read_excel(\"online_retail_II.xlsx\",sheet_name=\"Year 2010-2011\")"
   ]
  },
  {
   "cell_type": "code",
   "execution_count": 41,
   "metadata": {},
   "outputs": [
    {
     "data": {
      "text/html": [
       "<div>\n",
       "<style scoped>\n",
       "    .dataframe tbody tr th:only-of-type {\n",
       "        vertical-align: middle;\n",
       "    }\n",
       "\n",
       "    .dataframe tbody tr th {\n",
       "        vertical-align: top;\n",
       "    }\n",
       "\n",
       "    .dataframe thead th {\n",
       "        text-align: right;\n",
       "    }\n",
       "</style>\n",
       "<table border=\"1\" class=\"dataframe\">\n",
       "  <thead>\n",
       "    <tr style=\"text-align: right;\">\n",
       "      <th></th>\n",
       "      <th>invoice</th>\n",
       "      <th>stockcode</th>\n",
       "      <th>description</th>\n",
       "      <th>quantity</th>\n",
       "      <th>invoicedate</th>\n",
       "      <th>price</th>\n",
       "      <th>customer id</th>\n",
       "      <th>country</th>\n",
       "    </tr>\n",
       "  </thead>\n",
       "  <tbody>\n",
       "    <tr>\n",
       "      <th>0</th>\n",
       "      <td>536365</td>\n",
       "      <td>85123A</td>\n",
       "      <td>WHITE HANGING HEART T-LIGHT HOLDER</td>\n",
       "      <td>6</td>\n",
       "      <td>2010-12-01 08:26:00</td>\n",
       "      <td>2.55</td>\n",
       "      <td>17850.0</td>\n",
       "      <td>United Kingdom</td>\n",
       "    </tr>\n",
       "    <tr>\n",
       "      <th>1</th>\n",
       "      <td>536365</td>\n",
       "      <td>71053</td>\n",
       "      <td>WHITE METAL LANTERN</td>\n",
       "      <td>6</td>\n",
       "      <td>2010-12-01 08:26:00</td>\n",
       "      <td>3.39</td>\n",
       "      <td>17850.0</td>\n",
       "      <td>United Kingdom</td>\n",
       "    </tr>\n",
       "    <tr>\n",
       "      <th>2</th>\n",
       "      <td>536365</td>\n",
       "      <td>84406B</td>\n",
       "      <td>CREAM CUPID HEARTS COAT HANGER</td>\n",
       "      <td>8</td>\n",
       "      <td>2010-12-01 08:26:00</td>\n",
       "      <td>2.75</td>\n",
       "      <td>17850.0</td>\n",
       "      <td>United Kingdom</td>\n",
       "    </tr>\n",
       "    <tr>\n",
       "      <th>3</th>\n",
       "      <td>536365</td>\n",
       "      <td>84029G</td>\n",
       "      <td>KNITTED UNION FLAG HOT WATER BOTTLE</td>\n",
       "      <td>6</td>\n",
       "      <td>2010-12-01 08:26:00</td>\n",
       "      <td>3.39</td>\n",
       "      <td>17850.0</td>\n",
       "      <td>United Kingdom</td>\n",
       "    </tr>\n",
       "    <tr>\n",
       "      <th>4</th>\n",
       "      <td>536365</td>\n",
       "      <td>84029E</td>\n",
       "      <td>RED WOOLLY HOTTIE WHITE HEART.</td>\n",
       "      <td>6</td>\n",
       "      <td>2010-12-01 08:26:00</td>\n",
       "      <td>3.39</td>\n",
       "      <td>17850.0</td>\n",
       "      <td>United Kingdom</td>\n",
       "    </tr>\n",
       "  </tbody>\n",
       "</table>\n",
       "</div>"
      ],
      "text/plain": [
       "  invoice stockcode                          description  quantity  \\\n",
       "0  536365    85123A   WHITE HANGING HEART T-LIGHT HOLDER         6   \n",
       "1  536365     71053                  WHITE METAL LANTERN         6   \n",
       "2  536365    84406B       CREAM CUPID HEARTS COAT HANGER         8   \n",
       "3  536365    84029G  KNITTED UNION FLAG HOT WATER BOTTLE         6   \n",
       "4  536365    84029E       RED WOOLLY HOTTIE WHITE HEART.         6   \n",
       "\n",
       "          invoicedate  price  customer id         country  \n",
       "0 2010-12-01 08:26:00   2.55      17850.0  United Kingdom  \n",
       "1 2010-12-01 08:26:00   3.39      17850.0  United Kingdom  \n",
       "2 2010-12-01 08:26:00   2.75      17850.0  United Kingdom  \n",
       "3 2010-12-01 08:26:00   3.39      17850.0  United Kingdom  \n",
       "4 2010-12-01 08:26:00   3.39      17850.0  United Kingdom  "
      ]
     },
     "execution_count": 41,
     "metadata": {},
     "output_type": "execute_result"
    }
   ],
   "source": [
    "df = df_.copy()\n",
    "df.columns= df.columns.str.lower()\n",
    "df.head()"
   ]
  },
  {
   "cell_type": "code",
   "execution_count": 42,
   "metadata": {},
   "outputs": [
    {
     "data": {
      "text/plain": [
       "4223"
      ]
     },
     "execution_count": 42,
     "metadata": {},
     "output_type": "execute_result"
    }
   ],
   "source": [
    "# Num of unique product\n",
    "df[\"description\"].nunique()"
   ]
  },
  {
   "cell_type": "code",
   "execution_count": 43,
   "metadata": {},
   "outputs": [
    {
     "data": {
      "text/plain": [
       "<bound method Series.count of WHITE HANGING HEART T-LIGHT HOLDER     2369\n",
       "REGENCY CAKESTAND 3 TIER               2200\n",
       "JUMBO BAG RED RETROSPOT                2159\n",
       "PARTY BUNTING                          1727\n",
       "LUNCH BAG RED RETROSPOT                1638\n",
       "                                       ... \n",
       "add stock to allocate online orders       1\n",
       "Wrongly mrked had 85123a in box           1\n",
       "temp adjustment                           1\n",
       "GREEN WITH METAL BAG CHARM                1\n",
       "ETCHED GLASS STAR TREE DECORATION         1\n",
       "Name: description, Length: 4223, dtype: int64>"
      ]
     },
     "execution_count": 43,
     "metadata": {},
     "output_type": "execute_result"
    }
   ],
   "source": [
    "# How many products are processed?\n",
    "df[\"description\"].value_counts().count"
   ]
  },
  {
   "cell_type": "code",
   "execution_count": 44,
   "metadata": {},
   "outputs": [
    {
     "name": "stdout",
     "output_type": "stream",
     "text": [
      "Most ordered product is =>  WORLD WAR 2 GLIDERS ASSTD DESIGNS\n"
     ]
    }
   ],
   "source": [
    "# Most ordered product\n",
    "mo = pd.DataFrame(df.groupby(\"description\").agg({\"quantity\":\"sum\"}).sort_values(by = \"quantity\", ascending=False))\n",
    "print(\"Most ordered product is => \", mo.index[0])"
   ]
  },
  {
   "cell_type": "code",
   "execution_count": 45,
   "metadata": {},
   "outputs": [
    {
     "data": {
      "text/plain": [
       "25900"
      ]
     },
     "execution_count": 45,
     "metadata": {},
     "output_type": "execute_result"
    }
   ],
   "source": [
    "# Total invoice number\n",
    "df[\"invoice\"].nunique()"
   ]
  },
  {
   "cell_type": "code",
   "execution_count": 46,
   "metadata": {},
   "outputs": [
    {
     "data": {
      "text/plain": [
       "222681    38970.00\n",
       "524602    17836.46\n",
       "43702     16888.02\n",
       "43703     16453.71\n",
       "16356     13541.33\n",
       "            ...   \n",
       "345008        0.00\n",
       "345010        0.00\n",
       "40984         0.00\n",
       "299983   -11062.06\n",
       "299984   -11062.06\n",
       "Name: price, Length: 541910, dtype: float64"
      ]
     },
     "execution_count": 46,
     "metadata": {},
     "output_type": "execute_result"
    }
   ],
   "source": [
    "# Which products are most expensive\n",
    "df[\"price\"].sort_values(ascending=False)"
   ]
  },
  {
   "cell_type": "code",
   "execution_count": 47,
   "metadata": {},
   "outputs": [
    {
     "data": {
      "text/plain": [
       "38"
      ]
     },
     "execution_count": 47,
     "metadata": {},
     "output_type": "execute_result"
    }
   ],
   "source": [
    "# Total number of orders per country\n",
    "df[\"country\"].nunique()"
   ]
  },
  {
   "cell_type": "code",
   "execution_count": 48,
   "metadata": {},
   "outputs": [
    {
     "data": {
      "text/html": [
       "<div>\n",
       "<style scoped>\n",
       "    .dataframe tbody tr th:only-of-type {\n",
       "        vertical-align: middle;\n",
       "    }\n",
       "\n",
       "    .dataframe tbody tr th {\n",
       "        vertical-align: top;\n",
       "    }\n",
       "\n",
       "    .dataframe thead th {\n",
       "        text-align: right;\n",
       "    }\n",
       "</style>\n",
       "<table border=\"1\" class=\"dataframe\">\n",
       "  <thead>\n",
       "    <tr style=\"text-align: right;\">\n",
       "      <th></th>\n",
       "      <th>total price</th>\n",
       "    </tr>\n",
       "    <tr>\n",
       "      <th>country</th>\n",
       "      <th></th>\n",
       "    </tr>\n",
       "  </thead>\n",
       "  <tbody>\n",
       "    <tr>\n",
       "      <th>United Kingdom</th>\n",
       "      <td>9.003098e+06</td>\n",
       "    </tr>\n",
       "    <tr>\n",
       "      <th>Netherlands</th>\n",
       "      <td>2.854463e+05</td>\n",
       "    </tr>\n",
       "    <tr>\n",
       "      <th>EIRE</th>\n",
       "      <td>2.834540e+05</td>\n",
       "    </tr>\n",
       "    <tr>\n",
       "      <th>Germany</th>\n",
       "      <td>2.288671e+05</td>\n",
       "    </tr>\n",
       "    <tr>\n",
       "      <th>France</th>\n",
       "      <td>2.097331e+05</td>\n",
       "    </tr>\n",
       "    <tr>\n",
       "      <th>Australia</th>\n",
       "      <td>1.385213e+05</td>\n",
       "    </tr>\n",
       "    <tr>\n",
       "      <th>Spain</th>\n",
       "      <td>6.157711e+04</td>\n",
       "    </tr>\n",
       "    <tr>\n",
       "      <th>Switzerland</th>\n",
       "      <td>5.708990e+04</td>\n",
       "    </tr>\n",
       "    <tr>\n",
       "      <th>Belgium</th>\n",
       "      <td>4.119634e+04</td>\n",
       "    </tr>\n",
       "    <tr>\n",
       "      <th>Sweden</th>\n",
       "      <td>3.837833e+04</td>\n",
       "    </tr>\n",
       "    <tr>\n",
       "      <th>Japan</th>\n",
       "      <td>3.741637e+04</td>\n",
       "    </tr>\n",
       "    <tr>\n",
       "      <th>Norway</th>\n",
       "      <td>3.616544e+04</td>\n",
       "    </tr>\n",
       "    <tr>\n",
       "      <th>Portugal</th>\n",
       "      <td>3.374710e+04</td>\n",
       "    </tr>\n",
       "    <tr>\n",
       "      <th>Finland</th>\n",
       "      <td>2.254608e+04</td>\n",
       "    </tr>\n",
       "    <tr>\n",
       "      <th>Singapore</th>\n",
       "      <td>2.127929e+04</td>\n",
       "    </tr>\n",
       "    <tr>\n",
       "      <th>Channel Islands</th>\n",
       "      <td>2.045044e+04</td>\n",
       "    </tr>\n",
       "    <tr>\n",
       "      <th>Denmark</th>\n",
       "      <td>1.895534e+04</td>\n",
       "    </tr>\n",
       "    <tr>\n",
       "      <th>Italy</th>\n",
       "      <td>1.748324e+04</td>\n",
       "    </tr>\n",
       "    <tr>\n",
       "      <th>Hong Kong</th>\n",
       "      <td>1.569180e+04</td>\n",
       "    </tr>\n",
       "    <tr>\n",
       "      <th>Cyprus</th>\n",
       "      <td>1.359038e+04</td>\n",
       "    </tr>\n",
       "    <tr>\n",
       "      <th>Austria</th>\n",
       "      <td>1.019868e+04</td>\n",
       "    </tr>\n",
       "    <tr>\n",
       "      <th>Israel</th>\n",
       "      <td>8.135260e+03</td>\n",
       "    </tr>\n",
       "    <tr>\n",
       "      <th>Poland</th>\n",
       "      <td>7.334650e+03</td>\n",
       "    </tr>\n",
       "    <tr>\n",
       "      <th>Greece</th>\n",
       "      <td>4.760520e+03</td>\n",
       "    </tr>\n",
       "    <tr>\n",
       "      <th>Unspecified</th>\n",
       "      <td>4.749790e+03</td>\n",
       "    </tr>\n",
       "    <tr>\n",
       "      <th>Iceland</th>\n",
       "      <td>4.310000e+03</td>\n",
       "    </tr>\n",
       "    <tr>\n",
       "      <th>Canada</th>\n",
       "      <td>3.666380e+03</td>\n",
       "    </tr>\n",
       "    <tr>\n",
       "      <th>USA</th>\n",
       "      <td>3.580390e+03</td>\n",
       "    </tr>\n",
       "    <tr>\n",
       "      <th>Malta</th>\n",
       "      <td>2.725590e+03</td>\n",
       "    </tr>\n",
       "    <tr>\n",
       "      <th>United Arab Emirates</th>\n",
       "      <td>1.902280e+03</td>\n",
       "    </tr>\n",
       "    <tr>\n",
       "      <th>Lebanon</th>\n",
       "      <td>1.693880e+03</td>\n",
       "    </tr>\n",
       "    <tr>\n",
       "      <th>Lithuania</th>\n",
       "      <td>1.661060e+03</td>\n",
       "    </tr>\n",
       "    <tr>\n",
       "      <th>European Community</th>\n",
       "      <td>1.300250e+03</td>\n",
       "    </tr>\n",
       "    <tr>\n",
       "      <th>Brazil</th>\n",
       "      <td>1.143600e+03</td>\n",
       "    </tr>\n",
       "    <tr>\n",
       "      <th>RSA</th>\n",
       "      <td>1.002310e+03</td>\n",
       "    </tr>\n",
       "    <tr>\n",
       "      <th>Czech Republic</th>\n",
       "      <td>8.267400e+02</td>\n",
       "    </tr>\n",
       "    <tr>\n",
       "      <th>Bahrain</th>\n",
       "      <td>7.541400e+02</td>\n",
       "    </tr>\n",
       "    <tr>\n",
       "      <th>Saudi Arabia</th>\n",
       "      <td>1.459200e+02</td>\n",
       "    </tr>\n",
       "  </tbody>\n",
       "</table>\n",
       "</div>"
      ],
      "text/plain": [
       "                       total price\n",
       "country                           \n",
       "United Kingdom        9.003098e+06\n",
       "Netherlands           2.854463e+05\n",
       "EIRE                  2.834540e+05\n",
       "Germany               2.288671e+05\n",
       "France                2.097331e+05\n",
       "Australia             1.385213e+05\n",
       "Spain                 6.157711e+04\n",
       "Switzerland           5.708990e+04\n",
       "Belgium               4.119634e+04\n",
       "Sweden                3.837833e+04\n",
       "Japan                 3.741637e+04\n",
       "Norway                3.616544e+04\n",
       "Portugal              3.374710e+04\n",
       "Finland               2.254608e+04\n",
       "Singapore             2.127929e+04\n",
       "Channel Islands       2.045044e+04\n",
       "Denmark               1.895534e+04\n",
       "Italy                 1.748324e+04\n",
       "Hong Kong             1.569180e+04\n",
       "Cyprus                1.359038e+04\n",
       "Austria               1.019868e+04\n",
       "Israel                8.135260e+03\n",
       "Poland                7.334650e+03\n",
       "Greece                4.760520e+03\n",
       "Unspecified           4.749790e+03\n",
       "Iceland               4.310000e+03\n",
       "Canada                3.666380e+03\n",
       "USA                   3.580390e+03\n",
       "Malta                 2.725590e+03\n",
       "United Arab Emirates  1.902280e+03\n",
       "Lebanon               1.693880e+03\n",
       "Lithuania             1.661060e+03\n",
       "European Community    1.300250e+03\n",
       "Brazil                1.143600e+03\n",
       "RSA                   1.002310e+03\n",
       "Czech Republic        8.267400e+02\n",
       "Bahrain               7.541400e+02\n",
       "Saudi Arabia          1.459200e+02"
      ]
     },
     "execution_count": 48,
     "metadata": {},
     "output_type": "execute_result"
    }
   ],
   "source": [
    "# average income per invoice\n",
    "# firstly remove minus (-) values, It is necessary to remove the returned products from the list\n",
    "df = df[~df[\"invoice\"].str.contains(\"C\", na= False)]\n",
    "\n",
    "# Creating total price\n",
    "df[\"total price\"] = df[\"quantity\"] * df[\"price\"]\n",
    "# Total income per country\n",
    "df.groupby(\"country\").agg({\"total price\":\"sum\"}).sort_values(\"total price\", ascending=False)"
   ]
  },
  {
   "cell_type": "markdown",
   "metadata": {},
   "source": [
    "###       2. Data Preprocessing"
   ]
  },
  {
   "cell_type": "code",
   "execution_count": 49,
   "metadata": {
    "scrolled": true
   },
   "outputs": [
    {
     "name": "stdout",
     "output_type": "stream",
     "text": [
      "invoice             0\n",
      "stockcode           0\n",
      "description      1454\n",
      "quantity            0\n",
      "invoicedate         0\n",
      "price               0\n",
      "customer id    134697\n",
      "country             0\n",
      "total price         0\n",
      "dtype: int64\n"
     ]
    }
   ],
   "source": [
    "print(df.isnull().sum())\n"
   ]
  },
  {
   "cell_type": "code",
   "execution_count": 57,
   "metadata": {},
   "outputs": [],
   "source": [
    "df.dropna(axis=0,inplace=True)"
   ]
  },
  {
   "cell_type": "code",
   "execution_count": 58,
   "metadata": {},
   "outputs": [
    {
     "data": {
      "text/html": [
       "<div>\n",
       "<style scoped>\n",
       "    .dataframe tbody tr th:only-of-type {\n",
       "        vertical-align: middle;\n",
       "    }\n",
       "\n",
       "    .dataframe tbody tr th {\n",
       "        vertical-align: top;\n",
       "    }\n",
       "\n",
       "    .dataframe thead th {\n",
       "        text-align: right;\n",
       "    }\n",
       "</style>\n",
       "<table border=\"1\" class=\"dataframe\">\n",
       "  <thead>\n",
       "    <tr style=\"text-align: right;\">\n",
       "      <th></th>\n",
       "      <th>count</th>\n",
       "      <th>mean</th>\n",
       "      <th>std</th>\n",
       "      <th>min</th>\n",
       "      <th>1%</th>\n",
       "      <th>5%</th>\n",
       "      <th>10%</th>\n",
       "      <th>25%</th>\n",
       "      <th>50%</th>\n",
       "      <th>75%</th>\n",
       "      <th>90%</th>\n",
       "      <th>95%</th>\n",
       "      <th>99%</th>\n",
       "      <th>max</th>\n",
       "    </tr>\n",
       "  </thead>\n",
       "  <tbody>\n",
       "    <tr>\n",
       "      <th>quantity</th>\n",
       "      <td>397925.0</td>\n",
       "      <td>13.021793</td>\n",
       "      <td>180.419984</td>\n",
       "      <td>1.0</td>\n",
       "      <td>1.00</td>\n",
       "      <td>1.00</td>\n",
       "      <td>1.00</td>\n",
       "      <td>2.00</td>\n",
       "      <td>6.00</td>\n",
       "      <td>12.00</td>\n",
       "      <td>24.00</td>\n",
       "      <td>36.0</td>\n",
       "      <td>120.00</td>\n",
       "      <td>80995.00</td>\n",
       "    </tr>\n",
       "    <tr>\n",
       "      <th>price</th>\n",
       "      <td>397925.0</td>\n",
       "      <td>3.116212</td>\n",
       "      <td>22.096773</td>\n",
       "      <td>0.0</td>\n",
       "      <td>0.21</td>\n",
       "      <td>0.42</td>\n",
       "      <td>0.55</td>\n",
       "      <td>1.25</td>\n",
       "      <td>1.95</td>\n",
       "      <td>3.75</td>\n",
       "      <td>6.35</td>\n",
       "      <td>8.5</td>\n",
       "      <td>14.95</td>\n",
       "      <td>8142.75</td>\n",
       "    </tr>\n",
       "    <tr>\n",
       "      <th>customer id</th>\n",
       "      <td>397925.0</td>\n",
       "      <td>15294.308601</td>\n",
       "      <td>1713.172738</td>\n",
       "      <td>12346.0</td>\n",
       "      <td>12415.00</td>\n",
       "      <td>12627.00</td>\n",
       "      <td>12883.00</td>\n",
       "      <td>13969.00</td>\n",
       "      <td>15159.00</td>\n",
       "      <td>16795.00</td>\n",
       "      <td>17725.00</td>\n",
       "      <td>17912.0</td>\n",
       "      <td>18211.00</td>\n",
       "      <td>18287.00</td>\n",
       "    </tr>\n",
       "    <tr>\n",
       "      <th>total price</th>\n",
       "      <td>397925.0</td>\n",
       "      <td>22.394737</td>\n",
       "      <td>309.055200</td>\n",
       "      <td>0.0</td>\n",
       "      <td>0.55</td>\n",
       "      <td>1.25</td>\n",
       "      <td>1.95</td>\n",
       "      <td>4.68</td>\n",
       "      <td>11.80</td>\n",
       "      <td>19.80</td>\n",
       "      <td>35.40</td>\n",
       "      <td>67.5</td>\n",
       "      <td>202.50</td>\n",
       "      <td>168469.60</td>\n",
       "    </tr>\n",
       "  </tbody>\n",
       "</table>\n",
       "</div>"
      ],
      "text/plain": [
       "                count          mean          std      min        1%        5%  \\\n",
       "quantity     397925.0     13.021793   180.419984      1.0      1.00      1.00   \n",
       "price        397925.0      3.116212    22.096773      0.0      0.21      0.42   \n",
       "customer id  397925.0  15294.308601  1713.172738  12346.0  12415.00  12627.00   \n",
       "total price  397925.0     22.394737   309.055200      0.0      0.55      1.25   \n",
       "\n",
       "                  10%       25%       50%       75%       90%      95%  \\\n",
       "quantity         1.00      2.00      6.00     12.00     24.00     36.0   \n",
       "price            0.55      1.25      1.95      3.75      6.35      8.5   \n",
       "customer id  12883.00  13969.00  15159.00  16795.00  17725.00  17912.0   \n",
       "total price      1.95      4.68     11.80     19.80     35.40     67.5   \n",
       "\n",
       "                  99%        max  \n",
       "quantity       120.00   80995.00  \n",
       "price           14.95    8142.75  \n",
       "customer id  18211.00   18287.00  \n",
       "total price    202.50  168469.60  "
      ]
     },
     "execution_count": 58,
     "metadata": {},
     "output_type": "execute_result"
    }
   ],
   "source": [
    "describe_list = [0.01, 0.05, 0.10, 0.25, 0.50, 0.75, 0.90, 0.95, 0.99]\n",
    "df.describe(describe_list).T"
   ]
  },
  {
   "cell_type": "code",
   "execution_count": 59,
   "metadata": {},
   "outputs": [],
   "source": [
    "# For future steps, we consider a few days after the last date in the data as today's date.\n",
    "last_date = df[\"invoicedate\"].dt.date.max()\n",
    "today_date = last_date + timedelta(days=3)\n",
    "\n",
    "rfm = df.groupby('customer id').agg({'invoicedate': lambda Date: (today_date - Date.dt.date.max()).days,\n",
    "                                     'invoice': lambda num: len(num),\n",
    "                                     'total price': lambda totalprice: totalprice.sum()})\n"
   ]
  },
  {
   "cell_type": "code",
   "execution_count": 60,
   "metadata": {},
   "outputs": [
    {
     "data": {
      "text/html": [
       "<div>\n",
       "<style scoped>\n",
       "    .dataframe tbody tr th:only-of-type {\n",
       "        vertical-align: middle;\n",
       "    }\n",
       "\n",
       "    .dataframe tbody tr th {\n",
       "        vertical-align: top;\n",
       "    }\n",
       "\n",
       "    .dataframe thead th {\n",
       "        text-align: right;\n",
       "    }\n",
       "</style>\n",
       "<table border=\"1\" class=\"dataframe\">\n",
       "  <thead>\n",
       "    <tr style=\"text-align: right;\">\n",
       "      <th></th>\n",
       "      <th>invoicedate</th>\n",
       "      <th>invoice</th>\n",
       "      <th>total price</th>\n",
       "    </tr>\n",
       "    <tr>\n",
       "      <th>customer id</th>\n",
       "      <th></th>\n",
       "      <th></th>\n",
       "      <th></th>\n",
       "    </tr>\n",
       "  </thead>\n",
       "  <tbody>\n",
       "    <tr>\n",
       "      <th>12346.0</th>\n",
       "      <td>328</td>\n",
       "      <td>1</td>\n",
       "      <td>77183.60</td>\n",
       "    </tr>\n",
       "    <tr>\n",
       "      <th>12347.0</th>\n",
       "      <td>5</td>\n",
       "      <td>182</td>\n",
       "      <td>4310.00</td>\n",
       "    </tr>\n",
       "    <tr>\n",
       "      <th>12348.0</th>\n",
       "      <td>78</td>\n",
       "      <td>31</td>\n",
       "      <td>1797.24</td>\n",
       "    </tr>\n",
       "    <tr>\n",
       "      <th>12349.0</th>\n",
       "      <td>21</td>\n",
       "      <td>73</td>\n",
       "      <td>1757.55</td>\n",
       "    </tr>\n",
       "    <tr>\n",
       "      <th>12350.0</th>\n",
       "      <td>313</td>\n",
       "      <td>17</td>\n",
       "      <td>334.40</td>\n",
       "    </tr>\n",
       "  </tbody>\n",
       "</table>\n",
       "</div>"
      ],
      "text/plain": [
       "             invoicedate  invoice  total price\n",
       "customer id                                   \n",
       "12346.0              328        1     77183.60\n",
       "12347.0                5      182      4310.00\n",
       "12348.0               78       31      1797.24\n",
       "12349.0               21       73      1757.55\n",
       "12350.0              313       17       334.40"
      ]
     },
     "execution_count": 60,
     "metadata": {},
     "output_type": "execute_result"
    }
   ],
   "source": [
    "rfm.head()"
   ]
  },
  {
   "cell_type": "code",
   "execution_count": 61,
   "metadata": {},
   "outputs": [],
   "source": [
    "rfm.columns = ['Recency', 'Frequency', 'Monetary']\n",
    "\n",
    "rfm = rfm[(rfm[\"Monetary\"]) > 0 & (rfm[\"Frequency\"] > 0)]"
   ]
  },
  {
   "cell_type": "code",
   "execution_count": 62,
   "metadata": {},
   "outputs": [],
   "source": [
    "rfm[\"Recency_Score\"] = pd.qcut(rfm['Recency'], 5, labels=[5, 4, 3, 2, 1])\n",
    "\n",
    "rfm[\"Frequency_Score\"] = pd.qcut(rfm['Frequency'], 5, labels=[1, 2, 3, 4, 5])\n",
    "\n",
    "rfm[\"Monetary_Score\"] = pd.qcut(rfm['Monetary'], 5, labels=[1, 2, 3, 4, 5])"
   ]
  },
  {
   "cell_type": "code",
   "execution_count": 63,
   "metadata": {},
   "outputs": [],
   "source": [
    "rfm[\"RFM_SCORE\"] = (rfm['Recency_Score'].astype(str) +\n",
    "                    rfm['Frequency_Score'].astype(str) +\n",
    "                    rfm['Monetary_Score'].astype(str))"
   ]
  },
  {
   "cell_type": "code",
   "execution_count": 68,
   "metadata": {},
   "outputs": [
    {
     "data": {
      "text/html": [
       "<div>\n",
       "<style scoped>\n",
       "    .dataframe tbody tr th:only-of-type {\n",
       "        vertical-align: middle;\n",
       "    }\n",
       "\n",
       "    .dataframe tbody tr th {\n",
       "        vertical-align: top;\n",
       "    }\n",
       "\n",
       "    .dataframe thead th {\n",
       "        text-align: right;\n",
       "    }\n",
       "</style>\n",
       "<table border=\"1\" class=\"dataframe\">\n",
       "  <thead>\n",
       "    <tr style=\"text-align: right;\">\n",
       "      <th></th>\n",
       "      <th>Recency</th>\n",
       "      <th>Frequency</th>\n",
       "      <th>Monetary</th>\n",
       "      <th>Recency_Score</th>\n",
       "      <th>Frequency_Score</th>\n",
       "      <th>Monetary_Score</th>\n",
       "      <th>RFM_SCORE</th>\n",
       "    </tr>\n",
       "    <tr>\n",
       "      <th>customer id</th>\n",
       "      <th></th>\n",
       "      <th></th>\n",
       "      <th></th>\n",
       "      <th></th>\n",
       "      <th></th>\n",
       "      <th></th>\n",
       "      <th></th>\n",
       "    </tr>\n",
       "  </thead>\n",
       "  <tbody>\n",
       "    <tr>\n",
       "      <th>12346.0</th>\n",
       "      <td>328</td>\n",
       "      <td>1</td>\n",
       "      <td>77183.60</td>\n",
       "      <td>1</td>\n",
       "      <td>1</td>\n",
       "      <td>5</td>\n",
       "      <td>115</td>\n",
       "    </tr>\n",
       "    <tr>\n",
       "      <th>12347.0</th>\n",
       "      <td>5</td>\n",
       "      <td>182</td>\n",
       "      <td>4310.00</td>\n",
       "      <td>5</td>\n",
       "      <td>5</td>\n",
       "      <td>5</td>\n",
       "      <td>555</td>\n",
       "    </tr>\n",
       "    <tr>\n",
       "      <th>12348.0</th>\n",
       "      <td>78</td>\n",
       "      <td>31</td>\n",
       "      <td>1797.24</td>\n",
       "      <td>2</td>\n",
       "      <td>3</td>\n",
       "      <td>4</td>\n",
       "      <td>234</td>\n",
       "    </tr>\n",
       "    <tr>\n",
       "      <th>12349.0</th>\n",
       "      <td>21</td>\n",
       "      <td>73</td>\n",
       "      <td>1757.55</td>\n",
       "      <td>4</td>\n",
       "      <td>4</td>\n",
       "      <td>4</td>\n",
       "      <td>444</td>\n",
       "    </tr>\n",
       "    <tr>\n",
       "      <th>12350.0</th>\n",
       "      <td>313</td>\n",
       "      <td>17</td>\n",
       "      <td>334.40</td>\n",
       "      <td>1</td>\n",
       "      <td>2</td>\n",
       "      <td>2</td>\n",
       "      <td>122</td>\n",
       "    </tr>\n",
       "  </tbody>\n",
       "</table>\n",
       "</div>"
      ],
      "text/plain": [
       "             Recency  Frequency  Monetary Recency_Score Frequency_Score  \\\n",
       "customer id                                                               \n",
       "12346.0          328          1  77183.60             1               1   \n",
       "12347.0            5        182   4310.00             5               5   \n",
       "12348.0           78         31   1797.24             2               3   \n",
       "12349.0           21         73   1757.55             4               4   \n",
       "12350.0          313         17    334.40             1               2   \n",
       "\n",
       "            Monetary_Score RFM_SCORE  \n",
       "customer id                           \n",
       "12346.0                  5       115  \n",
       "12347.0                  5       555  \n",
       "12348.0                  4       234  \n",
       "12349.0                  4       444  \n",
       "12350.0                  2       122  "
      ]
     },
     "execution_count": 68,
     "metadata": {},
     "output_type": "execute_result"
    }
   ],
   "source": [
    "rfm.head()"
   ]
  },
  {
   "cell_type": "code",
   "execution_count": 65,
   "metadata": {},
   "outputs": [
    {
     "data": {
      "text/html": [
       "<div>\n",
       "<style scoped>\n",
       "    .dataframe tbody tr th:only-of-type {\n",
       "        vertical-align: middle;\n",
       "    }\n",
       "\n",
       "    .dataframe tbody tr th {\n",
       "        vertical-align: top;\n",
       "    }\n",
       "\n",
       "    .dataframe thead th {\n",
       "        text-align: right;\n",
       "    }\n",
       "</style>\n",
       "<table border=\"1\" class=\"dataframe\">\n",
       "  <thead>\n",
       "    <tr style=\"text-align: right;\">\n",
       "      <th></th>\n",
       "      <th>Recency</th>\n",
       "      <th>Frequency</th>\n",
       "      <th>Monetary</th>\n",
       "      <th>Recency_Score</th>\n",
       "      <th>Frequency_Score</th>\n",
       "      <th>Monetary_Score</th>\n",
       "      <th>RFM_SCORE</th>\n",
       "    </tr>\n",
       "    <tr>\n",
       "      <th>customer id</th>\n",
       "      <th></th>\n",
       "      <th></th>\n",
       "      <th></th>\n",
       "      <th></th>\n",
       "      <th></th>\n",
       "      <th></th>\n",
       "      <th></th>\n",
       "    </tr>\n",
       "  </thead>\n",
       "  <tbody>\n",
       "    <tr>\n",
       "      <th>12581.0</th>\n",
       "      <td>42</td>\n",
       "      <td>15</td>\n",
       "      <td>197.71</td>\n",
       "      <td>3</td>\n",
       "      <td>2</td>\n",
       "      <td>1</td>\n",
       "      <td>321</td>\n",
       "    </tr>\n",
       "    <tr>\n",
       "      <th>12718.0</th>\n",
       "      <td>74</td>\n",
       "      <td>19</td>\n",
       "      <td>238.25</td>\n",
       "      <td>3</td>\n",
       "      <td>2</td>\n",
       "      <td>1</td>\n",
       "      <td>321</td>\n",
       "    </tr>\n",
       "    <tr>\n",
       "      <th>12812.0</th>\n",
       "      <td>47</td>\n",
       "      <td>15</td>\n",
       "      <td>229.64</td>\n",
       "      <td>3</td>\n",
       "      <td>2</td>\n",
       "      <td>1</td>\n",
       "      <td>321</td>\n",
       "    </tr>\n",
       "    <tr>\n",
       "      <th>12923.0</th>\n",
       "      <td>67</td>\n",
       "      <td>29</td>\n",
       "      <td>176.97</td>\n",
       "      <td>3</td>\n",
       "      <td>2</td>\n",
       "      <td>1</td>\n",
       "      <td>321</td>\n",
       "    </tr>\n",
       "    <tr>\n",
       "      <th>13193.0</th>\n",
       "      <td>64</td>\n",
       "      <td>29</td>\n",
       "      <td>117.88</td>\n",
       "      <td>3</td>\n",
       "      <td>2</td>\n",
       "      <td>1</td>\n",
       "      <td>321</td>\n",
       "    </tr>\n",
       "  </tbody>\n",
       "</table>\n",
       "</div>"
      ],
      "text/plain": [
       "             Recency  Frequency  Monetary Recency_Score Frequency_Score  \\\n",
       "customer id                                                               \n",
       "12581.0           42         15    197.71             3               2   \n",
       "12718.0           74         19    238.25             3               2   \n",
       "12812.0           47         15    229.64             3               2   \n",
       "12923.0           67         29    176.97             3               2   \n",
       "13193.0           64         29    117.88             3               2   \n",
       "\n",
       "            Monetary_Score RFM_SCORE  \n",
       "customer id                           \n",
       "12581.0                  1       321  \n",
       "12718.0                  1       321  \n",
       "12812.0                  1       321  \n",
       "12923.0                  1       321  \n",
       "13193.0                  1       321  "
      ]
     },
     "execution_count": 65,
     "metadata": {},
     "output_type": "execute_result"
    }
   ],
   "source": [
    "rfm[rfm[\"RFM_SCORE\"] == \"321\"].head()"
   ]
  },
  {
   "cell_type": "code",
   "execution_count": 26,
   "metadata": {},
   "outputs": [
    {
     "data": {
      "image/png": "[encoded data removed]",
      "text/plain": [
       "<Figure size 864x720 with 1 Axes>"
      ]
     },
     "metadata": {
      "needs_background": "light"
     },
     "output_type": "display_data"
    }
   ],
   "source": [
    "# Plot distribution of RFM Score\n",
    "plt.figure(figsize=(12,10))\n",
    "sns.histplot(rfm[\"RFM_SCORE\"])\n",
    "plt.show()"
   ]
  },
  {
   "cell_type": "code",
   "execution_count": 27,
   "metadata": {},
   "outputs": [
    {
     "name": "stderr",
     "output_type": "stream",
     "text": [
      "C:\\Users\\ogulc\\anaconda3\\lib\\site-packages\\seaborn\\distributions.py:2551: FutureWarning: `distplot` is a deprecated function and will be removed in a future version. Please adapt your code to use either `displot` (a figure-level function with similar flexibility) or `histplot` (an axes-level function for histograms).\n",
      "  warnings.warn(msg, FutureWarning)\n",
      "C:\\Users\\ogulc\\anaconda3\\lib\\site-packages\\seaborn\\distributions.py:2551: FutureWarning: `distplot` is a deprecated function and will be removed in a future version. Please adapt your code to use either `displot` (a figure-level function with similar flexibility) or `histplot` (an axes-level function for histograms).\n",
      "  warnings.warn(msg, FutureWarning)\n",
      "C:\\Users\\ogulc\\anaconda3\\lib\\site-packages\\seaborn\\distributions.py:2551: FutureWarning: `distplot` is a deprecated function and will be removed in a future version. Please adapt your code to use either `displot` (a figure-level function with similar flexibility) or `histplot` (an axes-level function for histograms).\n",
      "  warnings.warn(msg, FutureWarning)\n"
     ]
    },
    {
     "data": {
      "image/png": "[encoded data removed]",
      "text/plain": [
       "<Figure size 864x720 with 3 Axes>"
      ]
     },
     "metadata": {
      "needs_background": "light"
     },
     "output_type": "display_data"
    }
   ],
   "source": [
    "# Plot RFM distributions\n",
    "plt.figure(figsize=(12,10))\n",
    "# Plot distribution of R\n",
    "plt.subplot(3, 1, 1); sns.distplot(rfm['Recency'])\n",
    "# Plot distribution of F\n",
    "plt.subplot(3, 1, 2); sns.distplot(rfm['Frequency'])\n",
    "# Plot distribution of M\n",
    "plt.subplot(3, 1, 3); sns.distplot(rfm['Monetary'])\n",
    "# Show the plot\n",
    "plt.show()"
   ]
  },
  {
   "cell_type": "code",
   "execution_count": 70,
   "metadata": {},
   "outputs": [],
   "source": [
    "# Let's apply the meaningful segmentation corresponding to the RFM score.\n",
    "seg_map = {\n",
    "    r'[1-2][1-2]': 'Hibernating',\n",
    "    r'[1-2][3-4]': 'At_Risk',\n",
    "    r'[1-2]5': 'Cant_Loose',\n",
    "    r'3[1-2]': 'About_to_Sleep',\n",
    "    r'33': 'Need_Attention',\n",
    "    r'[3-4][4-5]': 'Loyal_Customers',\n",
    "    r'41': 'Promising',\n",
    "    r'51': 'New_Customers',\n",
    "    r'[4-5][2-3]': 'Potential_Loyalists',\n",
    "    r'5[4-5]': 'Champions'\n",
    "}"
   ]
  },
  {
   "cell_type": "code",
   "execution_count": 71,
   "metadata": {},
   "outputs": [
    {
     "data": {
      "text/html": [
       "<div>\n",
       "<style scoped>\n",
       "    .dataframe tbody tr th:only-of-type {\n",
       "        vertical-align: middle;\n",
       "    }\n",
       "\n",
       "    .dataframe tbody tr th {\n",
       "        vertical-align: top;\n",
       "    }\n",
       "\n",
       "    .dataframe thead tr th {\n",
       "        text-align: left;\n",
       "    }\n",
       "\n",
       "    .dataframe thead tr:last-of-type th {\n",
       "        text-align: right;\n",
       "    }\n",
       "</style>\n",
       "<table border=\"1\" class=\"dataframe\">\n",
       "  <thead>\n",
       "    <tr>\n",
       "      <th></th>\n",
       "      <th colspan=\"2\" halign=\"left\">Recency</th>\n",
       "      <th colspan=\"2\" halign=\"left\">Frequency</th>\n",
       "      <th colspan=\"2\" halign=\"left\">Monetary</th>\n",
       "    </tr>\n",
       "    <tr>\n",
       "      <th></th>\n",
       "      <th>mean</th>\n",
       "      <th>count</th>\n",
       "      <th>mean</th>\n",
       "      <th>count</th>\n",
       "      <th>mean</th>\n",
       "      <th>count</th>\n",
       "    </tr>\n",
       "    <tr>\n",
       "      <th>Segment</th>\n",
       "      <th></th>\n",
       "      <th></th>\n",
       "      <th></th>\n",
       "      <th></th>\n",
       "      <th></th>\n",
       "      <th></th>\n",
       "    </tr>\n",
       "  </thead>\n",
       "  <tbody>\n",
       "    <tr>\n",
       "      <th>About_to_Sleep</th>\n",
       "      <td>55.192547</td>\n",
       "      <td>322</td>\n",
       "      <td>15.987578</td>\n",
       "      <td>322</td>\n",
       "      <td>450.997174</td>\n",
       "      <td>322</td>\n",
       "    </tr>\n",
       "    <tr>\n",
       "      <th>At_Risk</th>\n",
       "      <td>168.435852</td>\n",
       "      <td>569</td>\n",
       "      <td>56.859402</td>\n",
       "      <td>569</td>\n",
       "      <td>996.916872</td>\n",
       "      <td>569</td>\n",
       "    </tr>\n",
       "    <tr>\n",
       "      <th>Cant_Loose</th>\n",
       "      <td>146.226190</td>\n",
       "      <td>84</td>\n",
       "      <td>181.666667</td>\n",
       "      <td>84</td>\n",
       "      <td>2370.705012</td>\n",
       "      <td>84</td>\n",
       "    </tr>\n",
       "    <tr>\n",
       "      <th>Champions</th>\n",
       "      <td>8.400990</td>\n",
       "      <td>606</td>\n",
       "      <td>289.031353</td>\n",
       "      <td>606</td>\n",
       "      <td>6960.915446</td>\n",
       "      <td>606</td>\n",
       "    </tr>\n",
       "    <tr>\n",
       "      <th>Hibernating</th>\n",
       "      <td>212.251397</td>\n",
       "      <td>1074</td>\n",
       "      <td>13.589385</td>\n",
       "      <td>1074</td>\n",
       "      <td>536.535672</td>\n",
       "      <td>1074</td>\n",
       "    </tr>\n",
       "    <tr>\n",
       "      <th>Loyal_Customers</th>\n",
       "      <td>36.206854</td>\n",
       "      <td>817</td>\n",
       "      <td>157.116279</td>\n",
       "      <td>817</td>\n",
       "      <td>2845.732852</td>\n",
       "      <td>817</td>\n",
       "    </tr>\n",
       "    <tr>\n",
       "      <th>Need_Attention</th>\n",
       "      <td>54.985366</td>\n",
       "      <td>205</td>\n",
       "      <td>41.736585</td>\n",
       "      <td>205</td>\n",
       "      <td>856.195854</td>\n",
       "      <td>205</td>\n",
       "    </tr>\n",
       "    <tr>\n",
       "      <th>New_Customers</th>\n",
       "      <td>9.421053</td>\n",
       "      <td>57</td>\n",
       "      <td>7.578947</td>\n",
       "      <td>57</td>\n",
       "      <td>3618.697018</td>\n",
       "      <td>57</td>\n",
       "    </tr>\n",
       "    <tr>\n",
       "      <th>Potential_Loyalists</th>\n",
       "      <td>18.668699</td>\n",
       "      <td>492</td>\n",
       "      <td>34.945122</td>\n",
       "      <td>492</td>\n",
       "      <td>915.486994</td>\n",
       "      <td>492</td>\n",
       "    </tr>\n",
       "    <tr>\n",
       "      <th>Promising</th>\n",
       "      <td>25.437500</td>\n",
       "      <td>112</td>\n",
       "      <td>7.767857</td>\n",
       "      <td>112</td>\n",
       "      <td>429.433929</td>\n",
       "      <td>112</td>\n",
       "    </tr>\n",
       "  </tbody>\n",
       "</table>\n",
       "</div>"
      ],
      "text/plain": [
       "                        Recency         Frequency           Monetary      \n",
       "                           mean count        mean count         mean count\n",
       "Segment                                                                   \n",
       "About_to_Sleep        55.192547   322   15.987578   322   450.997174   322\n",
       "At_Risk              168.435852   569   56.859402   569   996.916872   569\n",
       "Cant_Loose           146.226190    84  181.666667    84  2370.705012    84\n",
       "Champions              8.400990   606  289.031353   606  6960.915446   606\n",
       "Hibernating          212.251397  1074   13.589385  1074   536.535672  1074\n",
       "Loyal_Customers       36.206854   817  157.116279   817  2845.732852   817\n",
       "Need_Attention        54.985366   205   41.736585   205   856.195854   205\n",
       "New_Customers          9.421053    57    7.578947    57  3618.697018    57\n",
       "Potential_Loyalists   18.668699   492   34.945122   492   915.486994   492\n",
       "Promising             25.437500   112    7.767857   112   429.433929   112"
      ]
     },
     "execution_count": 71,
     "metadata": {},
     "output_type": "execute_result"
    }
   ],
   "source": [
    "rfm['Segment'] = rfm['Recency_Score'].astype(str) + rfm['Frequency_Score'].astype(str)\n",
    "\n",
    "rfm['Segment'] = rfm['Segment'].replace(seg_map, regex=True)\n",
    "df[[\"customer id\"]].nunique()\n",
    "rfm[[\"Segment\", \"Recency\", \"Frequency\", \"Monetary\"]].groupby(\"Segment\").agg([\"mean\", \"count\"])"
   ]
  },
  {
   "cell_type": "markdown",
   "metadata": {},
   "source": [
    "---"
   ]
  },
  {
   "cell_type": "markdown",
   "metadata": {},
   "source": [
    "If we need to interpret these 3 segments both in terms of action decisions and in terms of the structure of the segments (in terms of average RFM values) by selecting 3 segments after segmenting the customers.\n",
    "\n",
    "Suppose we select At_Risk, Loyal_Customers and Champions segments.\n",
    "\n",
    "\n",
    "It is a known fact in marketing that the money spent on getting a new customer is more than the money you spend on someone who is already your customer to remain your customer.\n"
   ]
  },
  {
   "cell_type": "markdown",
   "metadata": {},
   "source": [
    "##### At Risk \n",
    "That's why the at_risk group is of great importance to us. Those who have shopped frequently in the past\n",
    "but haven't had a shopping record recently are the ones that make up this category.  \n",
    "It is necessary to restore these people's old habits. It is understandable that 13% of our customers are in\n",
    "this group, but it is acceptable to have a lower rate.  \n",
    "Special campaigns, effective communication and attractive new methods can be applied to reduce this number."
   ]
  },
  {
   "cell_type": "code",
   "execution_count": 73,
   "metadata": {},
   "outputs": [
    {
     "name": "stdout",
     "output_type": "stream",
     "text": [
      "0.13116643614568926\n"
     ]
    }
   ],
   "source": [
    "num_of_customer = rfm.shape[0]\n",
    "num_of_atrisk = len(rfm[rfm[\"Segment\"] == \"At_Risk\"].index)\n",
    "ratio_risk = num_of_atrisk/num_of_customer\n",
    "print(ratio_risk)"
   ]
  },
  {
   "cell_type": "markdown",
   "metadata": {},
   "source": [
    "#### Loyal Customers \n",
    "Although not as much as the champions category, this segment has recently shopped.\n",
    "The audience that shoppers very often is Loyal Customer for us.\n",
    "This category, which we will call the second most valuable category for us. This segment\n",
    "literally loves to shop. All businesses should strive to increase customer loyalty to keep\n",
    "customers purchasing and to promote their brand to new audiences. Increasing brand loyalty\n",
    "with email marketing will get them into the champions category for us.\n"
   ]
  },
  {
   "cell_type": "code",
   "execution_count": 33,
   "metadata": {},
   "outputs": [
    {
     "data": {
      "text/plain": [
       "0.18833563854310742"
      ]
     },
     "execution_count": 33,
     "metadata": {},
     "output_type": "execute_result"
    }
   ],
   "source": [
    "num_of_loyals = len(rfm[rfm[\"Segment\"] == \"Loyal_Customers\"].index)\n",
    "ratio_loyal = num_of_loyals/num_of_customer\n",
    "ratio_loyal"
   ]
  },
  {
   "cell_type": "markdown",
   "metadata": {},
   "source": [
    "It's not surprising that this ratio is 18%, but a higher one wouldn't be bad for us. However, considering that the proportion of the Champions segment is 13%, further increase in this ratio will\n",
    "support the Champions segment in the future."
   ]
  },
  {
   "cell_type": "markdown",
   "metadata": {},
   "source": [
    "#### Champions \n",
    "Customers in this segment have high shopping frequency and customer Recency value, and in this context,\n",
    "their return to us is also high. This is the group that should have the highest priority for us.\n",
    "Therefore, retaining customers is the most important thing for us. Making interesting campaigns and\n",
    "announcements targeting these customers will support the sales. It is necessary to protect the frequency\n",
    "of the customers by supporting them with applications such as loyalty points.\n"
   ]
  },
  {
   "cell_type": "code",
   "execution_count": 36,
   "metadata": {},
   "outputs": [
    {
     "data": {
      "text/plain": [
       "0.1396957123098202"
      ]
     },
     "execution_count": 36,
     "metadata": {},
     "output_type": "execute_result"
    }
   ],
   "source": [
    "num_of_champs = len(rfm[rfm[\"Segment\"] == \"Champions\"])\n",
    "ratio_champs = num_of_champs/num_of_customer\n",
    "ratio_champs"
   ]
  },
  {
   "cell_type": "markdown",
   "metadata": {},
   "source": [
    "If we think with Loyal_customer, the return of this community, which has a little more than a quarter of our general customer base, is very important to us."
   ]
  },
  {
   "cell_type": "markdown",
   "metadata": {},
   "source": [
    "#### Lets Export Loyal Customers' ids\n"
   ]
  },
  {
   "cell_type": "code",
   "execution_count": null,
   "metadata": {},
   "outputs": [],
   "source": [
    "loyals_ids =rfm[rfm[\"Segment\"].str.contains(\"Loyal_Customers\", na=False)]\n",
    "loyals_ids.index = loyals_ids.index.astype(int)\n",
    "loyals_ids = pd.DataFrame(loyals_ids.index.values)\n",
    "loyals_ids.to_csv('loyals.csv', index=True)"
   ]
  },
  {
   "cell_type": "markdown",
   "metadata": {},
   "source": [
    "---"
   ]
  },
  {
   "cell_type": "markdown",
   "metadata": {},
   "source": [
    "The process of assigning scores using qcut according to Recency, Frequency and Monetary values tries to keep all scores in the same or similar distribution.\n",
    "\n",
    " If we look at the log distribution of these values, we see that the densities are generally increased at the middle values and the values are not limited to  5 (especially for Frequency and Monetary). Here, more accurate results can be obtained with an unsupervised clustering operation such as k-means."
   ]
  },
  {
   "cell_type": "code",
   "execution_count": 38,
   "metadata": {},
   "outputs": [
    {
     "name": "stdout",
     "output_type": "stream",
     "text": [
      "Recency_Score\n",
      "4                880\n",
      "5                868\n",
      "2                866\n",
      "3                863\n",
      "1                861\n",
      "dtype: int64\n",
      "1    927\n",
      "5    867\n",
      "4    859\n",
      "3    855\n",
      "2    830\n",
      "Name: Frequency_Score, dtype: int64\n",
      "5    868\n",
      "3    868\n",
      "1    868\n",
      "4    867\n",
      "2    867\n",
      "Name: Monetary_Score, dtype: int64\n"
     ]
    },
    {
     "data": {
      "text/html": [
       "<div>\n",
       "<style scoped>\n",
       "    .dataframe tbody tr th:only-of-type {\n",
       "        vertical-align: middle;\n",
       "    }\n",
       "\n",
       "    .dataframe tbody tr th {\n",
       "        vertical-align: top;\n",
       "    }\n",
       "\n",
       "    .dataframe thead th {\n",
       "        text-align: right;\n",
       "    }\n",
       "</style>\n",
       "<table border=\"1\" class=\"dataframe\">\n",
       "  <thead>\n",
       "    <tr style=\"text-align: right;\">\n",
       "      <th></th>\n",
       "      <th>Recency</th>\n",
       "      <th>Frequency</th>\n",
       "      <th>Monetary</th>\n",
       "    </tr>\n",
       "    <tr>\n",
       "      <th>customer id</th>\n",
       "      <th></th>\n",
       "      <th></th>\n",
       "      <th></th>\n",
       "    </tr>\n",
       "  </thead>\n",
       "  <tbody>\n",
       "    <tr>\n",
       "      <th>12346.0</th>\n",
       "      <td>5.793</td>\n",
       "      <td>0.000</td>\n",
       "      <td>11.254</td>\n",
       "    </tr>\n",
       "    <tr>\n",
       "      <th>12347.0</th>\n",
       "      <td>1.609</td>\n",
       "      <td>5.204</td>\n",
       "      <td>8.369</td>\n",
       "    </tr>\n",
       "    <tr>\n",
       "      <th>12348.0</th>\n",
       "      <td>4.357</td>\n",
       "      <td>3.434</td>\n",
       "      <td>7.494</td>\n",
       "    </tr>\n",
       "    <tr>\n",
       "      <th>12349.0</th>\n",
       "      <td>3.045</td>\n",
       "      <td>4.290</td>\n",
       "      <td>7.472</td>\n",
       "    </tr>\n",
       "    <tr>\n",
       "      <th>12350.0</th>\n",
       "      <td>5.746</td>\n",
       "      <td>2.833</td>\n",
       "      <td>5.812</td>\n",
       "    </tr>\n",
       "    <tr>\n",
       "      <th>...</th>\n",
       "      <td>...</td>\n",
       "      <td>...</td>\n",
       "      <td>...</td>\n",
       "    </tr>\n",
       "    <tr>\n",
       "      <th>18280.0</th>\n",
       "      <td>5.635</td>\n",
       "      <td>2.303</td>\n",
       "      <td>5.196</td>\n",
       "    </tr>\n",
       "    <tr>\n",
       "      <th>18281.0</th>\n",
       "      <td>5.209</td>\n",
       "      <td>1.946</td>\n",
       "      <td>4.392</td>\n",
       "    </tr>\n",
       "    <tr>\n",
       "      <th>18282.0</th>\n",
       "      <td>2.303</td>\n",
       "      <td>2.485</td>\n",
       "      <td>5.182</td>\n",
       "    </tr>\n",
       "    <tr>\n",
       "      <th>18283.0</th>\n",
       "      <td>1.792</td>\n",
       "      <td>6.628</td>\n",
       "      <td>7.647</td>\n",
       "    </tr>\n",
       "    <tr>\n",
       "      <th>18287.0</th>\n",
       "      <td>3.807</td>\n",
       "      <td>4.248</td>\n",
       "      <td>7.516</td>\n",
       "    </tr>\n",
       "  </tbody>\n",
       "</table>\n",
       "<p>4338 rows × 3 columns</p>\n",
       "</div>"
      ],
      "text/plain": [
       "             Recency  Frequency  Monetary\n",
       "customer id                              \n",
       "12346.0        5.793      0.000    11.254\n",
       "12347.0        1.609      5.204     8.369\n",
       "12348.0        4.357      3.434     7.494\n",
       "12349.0        3.045      4.290     7.472\n",
       "12350.0        5.746      2.833     5.812\n",
       "...              ...        ...       ...\n",
       "18280.0        5.635      2.303     5.196\n",
       "18281.0        5.209      1.946     4.392\n",
       "18282.0        2.303      2.485     5.182\n",
       "18283.0        1.792      6.628     7.647\n",
       "18287.0        3.807      4.248     7.516\n",
       "\n",
       "[4338 rows x 3 columns]"
      ]
     },
     "execution_count": 38,
     "metadata": {},
     "output_type": "execute_result"
    }
   ],
   "source": [
    "print(rfm[[\"Recency_Score\"]].value_counts())\n",
    "  \n",
    "print(rfm[\"Frequency_Score\"].value_counts())\n",
    "  \n",
    "print(rfm[\"Monetary_Score\"].value_counts())\n",
    "\n",
    "rfm_log = rfm[['Recency', 'Frequency', 'Monetary']].apply(np.log, axis = 1).round(3)\n",
    "#or rfm_log = np.log(rfm_rfm)\n",
    "rfm_log"
   ]
  },
  {
   "cell_type": "code",
   "execution_count": 39,
   "metadata": {},
   "outputs": [
    {
     "name": "stderr",
     "output_type": "stream",
     "text": [
      "C:\\Users\\ogulc\\anaconda3\\lib\\site-packages\\seaborn\\distributions.py:2551: FutureWarning: `distplot` is a deprecated function and will be removed in a future version. Please adapt your code to use either `displot` (a figure-level function with similar flexibility) or `histplot` (an axes-level function for histograms).\n",
      "  warnings.warn(msg, FutureWarning)\n",
      "C:\\Users\\ogulc\\anaconda3\\lib\\site-packages\\seaborn\\distributions.py:2551: FutureWarning: `distplot` is a deprecated function and will be removed in a future version. Please adapt your code to use either `displot` (a figure-level function with similar flexibility) or `histplot` (an axes-level function for histograms).\n",
      "  warnings.warn(msg, FutureWarning)\n",
      "C:\\Users\\ogulc\\anaconda3\\lib\\site-packages\\seaborn\\distributions.py:2551: FutureWarning: `distplot` is a deprecated function and will be removed in a future version. Please adapt your code to use either `displot` (a figure-level function with similar flexibility) or `histplot` (an axes-level function for histograms).\n",
      "  warnings.warn(msg, FutureWarning)\n"
     ]
    },
    {
     "data": {
      "image/png": "[encoded data removed]",
      "text/plain": [
       "<Figure size 720x864 with 3 Axes>"
      ]
     },
     "metadata": {
      "needs_background": "light"
     },
     "output_type": "display_data"
    }
   ],
   "source": [
    "# plot the distribution of RFM values\n",
    "f,ax = plt.subplots(figsize=(10, 12))\n",
    "plt.subplot(3, 1, 1)\n",
    "sns.distplot(rfm_log.Recency, label = 'Recency')\n",
    "plt.subplot(3, 1, 2)\n",
    "sns.distplot(rfm_log.Frequency, label = 'Frequency')\n",
    "plt.subplot(3, 1, 3)\n",
    "sns.distplot(rfm_log.Monetary, label = 'Monetary')\n",
    "plt.style.use('fivethirtyeight')\n",
    "plt.tight_layout()\n",
    "plt.show()"
   ]
  }
 ],
 "metadata": {
  "kernelspec": {
   "display_name": "Python 3",
   "language": "python",
   "name": "python3"
  },
  "language_info": {
   "codemirror_mode": {
    "name": "ipython",
    "version": 3
   },
   "file_extension": ".py",
   "mimetype": "text/x-python",
   "name": "python",
   "nbconvert_exporter": "python",
   "pygments_lexer": "ipython3",
   "version": "3.7.7"
  }
 },
 "nbformat": 4,
 "nbformat_minor": 4
}
